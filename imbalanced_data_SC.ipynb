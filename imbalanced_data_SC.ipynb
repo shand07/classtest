{
  "cells": [
    {
      "cell_type": "markdown",
      "metadata": {
        "id": "view-in-github",
        "colab_type": "text"
      },
      "source": [
        "<a href=\"https://colab.research.google.com/github/shand07/classtest/blob/main/imbalanced_data_SC.ipynb\" target=\"_parent\"><img src=\"https://colab.research.google.com/assets/colab-badge.svg\" alt=\"Open In Colab\"/></a>"
      ]
    },
    {
      "cell_type": "markdown",
      "source": [],
      "metadata": {
        "id": "GCZ2KXR7E3V3"
      }
    },
    {
      "cell_type": "markdown",
      "source": [],
      "metadata": {
        "id": "c5MEqWL9E28X"
      }
    },
    {
      "cell_type": "markdown",
      "metadata": {
        "id": "6XRI0psO-Grd"
      },
      "source": [
        "# Imbalanced data\n",
        "\n",
        "Imbalanced data refers to a situation in classification problems where the classes are not represented equally in the dataset.\n",
        "\n",
        "One class (the majority class) has significantly more instances than one or more other classes (the minority class or classes).\n",
        "\n",
        "\n",
        "\n",
        "Imbalanced datasets are common in various real-world scenarios, such as fraud detection, medical diagnosis, anomaly detection, and text classification.\n",
        "\n",
        "### Problems with Imbalanced Datasets:\n",
        "\n",
        "* **Biased Model Performance**: Models trained on imbalanced data tend to be biased towards the majority class, as they tend to focus more on the majority class during training, resulting in poor generalization to the minority class.\n",
        "\n",
        "* **Misleading Evaluation Metrics**: Traditional evaluation metrics like **accuracy** can be misleading on imbalanced datasets. A model may achieve high accuracy by simply predicting the majority class most of the time, while completely ignoring the minority class."
      ]
    },
    {
      "cell_type": "markdown",
      "metadata": {
        "id": "JE84Kfgg-Gre"
      },
      "source": [
        "### SKlearn toy datasets\n"
      ]
    },
    {
      "cell_type": "code",
      "execution_count": 1,
      "metadata": {
        "id": "27J_ekWu-Gre"
      },
      "outputs": [],
      "source": [
        "from sklearn.datasets import load_iris\n",
        "import pandas as pd"
      ]
    },
    {
      "cell_type": "code",
      "source": [
        "# load iris data\n",
        "iris = load_iris()\n",
        "X = iris.data # feature\n",
        "y = iris.target # target\n"
      ],
      "metadata": {
        "id": "W758Zlta-X0t"
      },
      "execution_count": 6,
      "outputs": []
    },
    {
      "cell_type": "code",
      "source": [
        "type(y)"
      ],
      "metadata": {
        "colab": {
          "base_uri": "https://localhost:8080/"
        },
        "id": "0QoeWoh1-69J",
        "outputId": "656cd1bc-f888-483a-b2ca-8d4543818c3f"
      },
      "execution_count": 7,
      "outputs": [
        {
          "output_type": "execute_result",
          "data": {
            "text/plain": [
              "numpy.ndarray"
            ]
          },
          "metadata": {},
          "execution_count": 7
        }
      ]
    },
    {
      "cell_type": "code",
      "source": [
        "# check the class distribution\n",
        "print(pd.Series(y).value_counts())"
      ],
      "metadata": {
        "colab": {
          "base_uri": "https://localhost:8080/"
        },
        "id": "sAq4X3fX-yq6",
        "outputId": "26f14787-f23e-4fc3-c564-df1baf963ec9"
      },
      "execution_count": 8,
      "outputs": [
        {
          "output_type": "stream",
          "name": "stdout",
          "text": [
            "0    50\n",
            "1    50\n",
            "2    50\n",
            "Name: count, dtype: int64\n"
          ]
        }
      ]
    },
    {
      "cell_type": "code",
      "source": [
        "from sklearn.datasets import load_breast_cancer\n",
        "from imblearn.under_sampling import RandomUnderSampler\n",
        "import pandas as pd\n",
        "breast_cancer = load_breast_cancer()\n",
        "X = breast_cancer.data\n",
        "y = breast_cancer.target\n",
        "print(pd.Series(y).value_counts())"
      ],
      "metadata": {
        "colab": {
          "base_uri": "https://localhost:8080/"
        },
        "id": "xIuFPEid_Q6M",
        "outputId": "c775c0ad-8c74-4e9c-b087-ae5b9e07db4c"
      },
      "execution_count": 12,
      "outputs": [
        {
          "output_type": "stream",
          "name": "stdout",
          "text": [
            "1    357\n",
            "0    212\n",
            "Name: count, dtype: int64\n"
          ]
        }
      ]
    },
    {
      "cell_type": "code",
      "source": [
        "rus=RandomUnderSampler(random_state=42)\n",
        "X_resampled, y_resampled = rus.fit_resample(X, y)\n",
        "print(pd.Series(y_resampled).value_counts())"
      ],
      "metadata": {
        "colab": {
          "base_uri": "https://localhost:8080/"
        },
        "id": "6kmNoeq_AJRj",
        "outputId": "f433289d-f158-4adb-e0db-a458b102013e"
      },
      "execution_count": 13,
      "outputs": [
        {
          "output_type": "stream",
          "name": "stdout",
          "text": [
            "0    212\n",
            "1    212\n",
            "Name: count, dtype: int64\n"
          ]
        }
      ]
    },
    {
      "cell_type": "markdown",
      "metadata": {
        "id": "LKqdWCZ8-Gre"
      },
      "source": [
        "## Solutions to Imbalanced Data Problems:\n",
        "\n",
        "### **1. Resampling Techniques**:"
      ]
    },
    {
      "cell_type": "code",
      "execution_count": null,
      "metadata": {
        "id": "kDEKlS40-Grf"
      },
      "outputs": [],
      "source": []
    },
    {
      "cell_type": "code",
      "execution_count": null,
      "metadata": {
        "id": "K3CzM4Dt-Grf"
      },
      "outputs": [],
      "source": [
        "rus=RandomUnderSampler(random_state=42)\n",
        "X_resampled, y_resampled = rus.fit_resample(X, y)\n",
        "print(pd.Series(y_resampled).value_counts())"
      ]
    },
    {
      "cell_type": "markdown",
      "metadata": {
        "id": "Qf4XhaC9-Grf"
      },
      "source": [
        "**Advantages**:\n",
        "* Reduces computation time and memory usage.\n",
        "* Helps balance class distribution, potentially improving model performance.\n",
        "\n",
        "**Disadvantages**:\n",
        "* May discard potentially useful information from majority class.\n",
        "* Risk of underfitting if important samples are removed."
      ]
    },
    {
      "cell_type": "markdown",
      "metadata": {
        "id": "XSCSt1fS-Grf"
      },
      "source": [
        "## 1.2. Over-Sampling\n",
        "\n",
        "Increase the number of instances in the minority class by duplicating existing instances or generating synthetic samples.\n",
        "\n"
      ]
    },
    {
      "cell_type": "code",
      "execution_count": 16,
      "metadata": {
        "colab": {
          "base_uri": "https://localhost:8080/"
        },
        "id": "yhZqIkRj-Grg",
        "outputId": "2ab361ec-57ae-483c-e9e2-5e94ff39fc26"
      },
      "outputs": [
        {
          "output_type": "stream",
          "name": "stdout",
          "text": [
            "0    357\n",
            "1    357\n",
            "Name: count, dtype: int64\n"
          ]
        }
      ],
      "source": [
        "from imblearn.over_sampling import RandomOverSampler\n",
        "ros=RandomOverSampler(random_state=42)\n",
        "X_resampled1, y_resampled1 = ros.fit_resample(X, y)\n",
        "print(pd.Series(y_resampled1).value_counts())\n"
      ]
    },
    {
      "cell_type": "code",
      "execution_count": null,
      "metadata": {
        "id": "aFjfYGdM-Grg"
      },
      "outputs": [],
      "source": []
    },
    {
      "cell_type": "markdown",
      "metadata": {
        "id": "aokkvwhp-Grg"
      },
      "source": [
        "**Advantages**:\n",
        "* Increases representation of minority class, preventing bias towards majority class.\n",
        "* Can improve model performance.\n",
        "\n",
        "**Disadvantages**:\n",
        "* May lead to overfitting if synthetic samples are not well-generated.\n",
        "* Can increase computation time and memory usage."
      ]
    },
    {
      "cell_type": "markdown",
      "metadata": {
        "id": "mZHgJAvL-Grg"
      },
      "source": [
        "\n",
        "\n",
        "Generate synthetic samples for the minority class by interpolating between existing instances."
      ]
    },
    {
      "cell_type": "markdown",
      "metadata": {
        "id": "Xg77mYhM-Grg"
      },
      "source": [
        "### Step-by-Step Process of SMOTE:\n",
        "#### Identify Minority Class Samples:\n",
        "\n",
        "SMOTE first identifies the minority class samples from the dataset. Let's assume we have a binary classification problem where the majority class has far more instances than the minority class.\n",
        "Find k Nearest Neighbors:\n",
        "\n",
        "- For each minority class sample, SMOTE finds its k-nearest neighbors in the feature space using techniques like Euclidean distance. Typically, k is set to 5 by default, though it can be adjusted.\n",
        "- These neighboring points are other minority class examples that are \"close\" to the original point in the feature space.\n",
        "Generate Synthetic Samples:\n",
        "\n",
        "SMOTE then selects one of the k-nearest neighbors at random and creates a new synthetic sample.\n",
        "![image.png](attachment:a8416356-eabf-4c2a-ae82-3b96bab4c87c.png)"
      ]
    },
    {
      "cell_type": "code",
      "execution_count": 19,
      "metadata": {
        "colab": {
          "base_uri": "https://localhost:8080/"
        },
        "id": "GhCWPcpz-Grg",
        "outputId": "0f69637a-0922-4af4-ba40-fc83ac6e0e61"
      },
      "outputs": [
        {
          "output_type": "stream",
          "name": "stdout",
          "text": [
            "0    357\n",
            "1    357\n",
            "Name: count, dtype: int64\n"
          ]
        }
      ],
      "source": [
        "from imblearn.over_sampling import SMOTE\n",
        "smote=SMOTE(random_state=42)\n",
        "X_resampled2, y_resampled2 = smote.fit_resample(X, y)\n",
        "print(pd.Series(y_resampled2).value_counts())"
      ]
    },
    {
      "cell_type": "markdown",
      "metadata": {
        "id": "vuh4o7jq-Grh"
      },
      "source": [
        "**Advantages**:\n",
        "* Generates synthetic samples, preserving minority class distribution.\n",
        "* Addresses imbalanced data without discarding information.\n",
        "\n",
        "**Disadvantages**:\n",
        "* Can introduce noise if synthetic samples are poorly generated.\n",
        "* May not work well with high-dimensional data.\n",
        "* Sensitive towards outliers."
      ]
    },
    {
      "cell_type": "markdown",
      "metadata": {
        "id": "Kk3YCYz5-Grh"
      },
      "source": [
        "**Model Selection:**\n",
        "\n",
        "Choose models that are robust to class imbalance, such as linear regression, logistic regression, decision trees, random forests, support vector machines with appropriate kernels, or anomaly detection algorithms."
      ]
    },
    {
      "cell_type": "markdown",
      "metadata": {
        "id": "cEOm6Bka-Grh"
      },
      "source": [
        "## 2. Data-Level Techniques:\n",
        "\n",
        "* **Collect More Data:** Gather additional data for the minority class to balance the dataset.\n",
        "* **Domain Knowledge:** Incorporate domain knowledge to better understand the importance of different classes and guide the selection of appropriate techniques for handling imbalance.\n"
      ]
    },
    {
      "cell_type": "code",
      "execution_count": null,
      "metadata": {
        "id": "EZpBuU_V-Grh"
      },
      "outputs": [],
      "source": []
    }
  ],
  "metadata": {
    "kaggle": {
      "accelerator": "none",
      "dataSources": [],
      "dockerImageVersionId": 30698,
      "isGpuEnabled": false,
      "isInternetEnabled": false,
      "language": "python",
      "sourceType": "notebook"
    },
    "kernelspec": {
      "display_name": "Python 3 (ipykernel)",
      "language": "python",
      "name": "python3"
    },
    "language_info": {
      "codemirror_mode": {
        "name": "ipython",
        "version": 3
      },
      "file_extension": ".py",
      "mimetype": "text/x-python",
      "name": "python",
      "nbconvert_exporter": "python",
      "pygments_lexer": "ipython3",
      "version": "3.12.4"
    },
    "colab": {
      "provenance": [],
      "include_colab_link": true
    }
  },
  "nbformat": 4,
  "nbformat_minor": 0
}